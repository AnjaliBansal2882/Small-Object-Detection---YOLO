{
 "cells": [
  {
   "cell_type": "code",
   "execution_count": 2,
   "metadata": {},
   "outputs": [],
   "source": [
    "ann_path = \"/home/anjali/Downloads/TestSetFrames/1.2.10.txt\"\n",
    "img_folder = \"/home/anjali/Downloads/TestSetFrames/1.2.10\""
   ]
  },
  {
   "cell_type": "code",
   "execution_count": 6,
   "metadata": {},
   "outputs": [
    {
     "name": "stdout",
     "output_type": "stream",
     "text": [
      "COCO JSON saved to Okutama_test_COCO_Annotations.json\n"
     ]
    }
   ],
   "source": [
    "import os\n",
    "import cv2 as cv\n",
    "import json\n",
    "import numpy\n",
    "\n",
    "COCO_JSON_PATH = \"Okutama_test_COCO_Annotations.json\"\n",
    "\n",
    "coco_data = {\n",
    "    \"images\": [],\n",
    "    \"annotations\": [],\n",
    "    \"categories\": [{\"id\": 1, \"name\": \"person\"}]  # Modify as needed\n",
    "}\n",
    "\n",
    "img_id = 1\n",
    "annotation_id = 1\n",
    "for img in os.listdir(img_folder):\n",
    "\n",
    "    img_path = os.path.join(img_folder, img)\n",
    "    image = cv.imread(img_path)\n",
    "    height, width, _ = image.shape\n",
    "    coco_data[\"images\"].append({\n",
    "        \"id\" : img_id,\n",
    "        \"file_name\" : img,\n",
    "        \"width\" : width,\n",
    "        \"height\" : height\n",
    "    })\n",
    "    img_id += 1\n",
    "\n",
    "if os.path.exists(ann_path):\n",
    "    with open(ann_path, \"r\") as f:\n",
    "        for line in f.readlines():\n",
    "            parts = line.strip().split()\n",
    "\n",
    "            xmin, ymin, xmax, ymax, frame = map(float,parts[1:6])\n",
    "            xmin = xmin/3\n",
    "            ymin = ymin/3\n",
    "            xmax = xmax/3\n",
    "            ymax = ymax/3\n",
    "            bbox_width = xmax - ymax\n",
    "            bbox_height = ymax - ymin\n",
    "            area = bbox_width*bbox_height\n",
    "            id = frame + 1\n",
    "\n",
    "            coco_data[\"annotations\"].append({\n",
    "                \"id\" : annotation_id, \n",
    "                \"image_id\" : id, \n",
    "                \"category_id\": 1,\n",
    "                \"bbox\" : [xmin, ymin, bbox_width, bbox_height], \n",
    "                \"area\" : area, \n",
    "                \"iscrowd\" : 0\n",
    "            })\n",
    "\n",
    "            annotation_id += 1\n",
    "\n",
    "with open(COCO_JSON_PATH, \"w\") as f:\n",
    "    json.dump(coco_data, f, indent=4)\n",
    "\n",
    "print(f\"COCO JSON saved to {COCO_JSON_PATH}\")\n",
    "\n",
    "\n"
   ]
  },
  {
   "cell_type": "code",
   "execution_count": 4,
   "metadata": {},
   "outputs": [
    {
     "name": "stdout",
     "output_type": "stream",
     "text": [
      "1691\n"
     ]
    }
   ],
   "source": [
    "print(len(os.listdir(img_folder)))"
   ]
  },
  {
   "cell_type": "code",
   "execution_count": 7,
   "metadata": {},
   "outputs": [
    {
     "name": "stdout",
     "output_type": "stream",
     "text": [
      "13600\n"
     ]
    }
   ],
   "source": [
    "count = 0\n",
    "with open(ann_path, \"r\") as f:\n",
    "        for line in f.readlines():\n",
    "            count += 1\n",
    "print(count)"
   ]
  },
  {
   "cell_type": "code",
   "execution_count": 5,
   "metadata": {},
   "outputs": [
    {
     "name": "stdout",
     "output_type": "stream",
     "text": [
      "(720, 1280, 3)\n"
     ]
    }
   ],
   "source": [
    "import cv2 \n",
    "\n",
    "img = cv.imread(\"/home/anjali/Downloads/TestSetFrames/1.2.10/0.jpg\")\n",
    "print(img.shape)"
   ]
  },
  {
   "cell_type": "code",
   "execution_count": null,
   "metadata": {},
   "outputs": [],
   "source": []
  }
 ],
 "metadata": {
  "kernelspec": {
   "display_name": "Python 3",
   "language": "python",
   "name": "python3"
  },
  "language_info": {
   "codemirror_mode": {
    "name": "ipython",
    "version": 3
   },
   "file_extension": ".py",
   "mimetype": "text/x-python",
   "name": "python",
   "nbconvert_exporter": "python",
   "pygments_lexer": "ipython3",
   "version": "3.12.3"
  }
 },
 "nbformat": 4,
 "nbformat_minor": 2
}
