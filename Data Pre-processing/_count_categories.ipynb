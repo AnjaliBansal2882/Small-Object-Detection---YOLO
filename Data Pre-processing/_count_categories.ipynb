{
 "cells": [
  {
   "cell_type": "code",
   "execution_count": null,
   "id": "aaa40a3a",
   "metadata": {},
   "outputs": [],
   "source": [
    "/home/anjali/Documents/VisDrone_Dataset/VisDrone_Human_Yolo_test_all_categories/labels"
   ]
  },
  {
   "cell_type": "code",
   "execution_count": 16,
   "id": "74b0de96",
   "metadata": {},
   "outputs": [
    {
     "name": "stdout",
     "output_type": "stream",
     "text": [
      "Found 10 unique values in first column:\n",
      "[0, 1, 2, 3, 4, 5, 6, 7, 8, 9]\n"
     ]
    }
   ],
   "source": [
    "import os\n",
    "from glob import glob\n",
    "\n",
    "def extract_unique_first_column_numbers(directory_path, file_pattern=\"*.txt\"):\n",
    "    unique_numbers = set()\n",
    "\n",
    "    # Get all text files matching the pattern\n",
    "    file_paths = glob(os.path.join(directory_path, file_pattern))\n",
    "\n",
    "    for file_path in file_paths:\n",
    "        with open(file_path, 'r') as f:\n",
    "            for line in f:\n",
    "                if line.strip():  # skip empty lines\n",
    "                    parts = line.strip().split()\n",
    "                    if len(parts) >= 1:\n",
    "                        try:\n",
    "                            number = int(parts[0])\n",
    "                            unique_numbers.add(number)\n",
    "                        except ValueError:\n",
    "                            continue  # skip lines where the first column is not an integer\n",
    "\n",
    "    return unique_numbers\n",
    "\n",
    "# Example usage\n",
    "directory = \"/home/anjali/Documents/VisDrone_Dataset/VisDrone_Human_Yolo_test_all_categories/labels\"  # replace with the actual path\n",
    "unique_values = extract_unique_first_column_numbers(directory)\n",
    "\n",
    "print(f\"Found {len(unique_values)} unique values in first column:\")\n",
    "print(sorted(unique_values))\n"
   ]
  },
  {
   "cell_type": "code",
   "execution_count": 15,
   "id": "b34f538f",
   "metadata": {},
   "outputs": [
    {
     "name": "stdout",
     "output_type": "stream",
     "text": [
      "Found 12 unique values in first column:\n",
      "[0, 1, 2, 3, 4, 5, 6, 7, 8, 9, 10, 11]\n",
      "Deleted lines with first column in {10, 11}\n"
     ]
    }
   ],
   "source": [
    "import os\n",
    "from glob import glob\n",
    "\n",
    "def extract_unique_first_column_numbers(directory_path, file_pattern=\"*.txt\"):\n",
    "    unique_numbers = set()\n",
    "\n",
    "    # Get all text files matching the pattern\n",
    "    file_paths = glob(os.path.join(directory_path, file_pattern))\n",
    "\n",
    "    for file_path in file_paths:\n",
    "        with open(file_path, 'r') as f:\n",
    "            for line in f:\n",
    "                if line.strip():  # skip empty lines\n",
    "                    parts = line.strip().split()\n",
    "                    if len(parts) >= 1:\n",
    "                        try:\n",
    "                            number = int(parts[0])\n",
    "                            unique_numbers.add(number)\n",
    "                        except ValueError:\n",
    "                            continue  # skip lines where the first column is not an integer\n",
    "\n",
    "    return unique_numbers\n",
    "\n",
    "def delete_lines_with_first_column_values(directory_path, values_to_remove, file_pattern=\"*.txt\"):\n",
    "    file_paths = glob(os.path.join(directory_path, file_pattern))\n",
    "\n",
    "    for file_path in file_paths:\n",
    "        with open(file_path, 'r') as f:\n",
    "            lines = f.readlines()\n",
    "\n",
    "        # Filter lines where the first column is not in values_to_remove\n",
    "        filtered_lines = []\n",
    "        for line in lines:\n",
    "            if line.strip():\n",
    "                parts = line.strip().split()\n",
    "                try:\n",
    "                    if int(parts[0]) not in values_to_remove:\n",
    "                        filtered_lines.append(line)\n",
    "                except ValueError:\n",
    "                    filtered_lines.append(line)  # Keep malformed lines\n",
    "\n",
    "        # Overwrite the file with filtered lines\n",
    "        with open(file_path, 'w') as f:\n",
    "            f.writelines(filtered_lines)\n",
    "\n",
    "# Example usage\n",
    "directory = \"/home/anjali/Documents/VisDrone_Dataset/VisDrone_Human_Yolo_test_all_categories/labels\"\n",
    "\n",
    "# Step 1: Extract and print unique values (optional)\n",
    "unique_values = extract_unique_first_column_numbers(directory)\n",
    "print(f\"Found {len(unique_values)} unique values in first column:\")\n",
    "print(sorted(unique_values))\n",
    "\n",
    "# Step 2: Delete lines where first column is 10 or 11\n",
    "values_to_delete = {10, 11}\n",
    "delete_lines_with_first_column_values(directory, values_to_delete)\n",
    "print(f\"Deleted lines with first column in {values_to_delete}\")\n"
   ]
  },
  {
   "cell_type": "code",
   "execution_count": null,
   "id": "caab035c",
   "metadata": {},
   "outputs": [],
   "source": []
  }
 ],
 "metadata": {
  "kernelspec": {
   "display_name": "Python 3",
   "language": "python",
   "name": "python3"
  },
  "language_info": {
   "codemirror_mode": {
    "name": "ipython",
    "version": 3
   },
   "file_extension": ".py",
   "mimetype": "text/x-python",
   "name": "python",
   "nbconvert_exporter": "python",
   "pygments_lexer": "ipython3",
   "version": "3.12.3"
  }
 },
 "nbformat": 4,
 "nbformat_minor": 5
}
